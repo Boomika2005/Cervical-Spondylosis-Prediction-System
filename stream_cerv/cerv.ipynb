{
  "cells": [
    {
      "cell_type": "code",
      "execution_count": 2,
      "metadata": {
        "colab": {
          "base_uri": "https://localhost:8080/"
        },
        "id": "G9FXbBBwZfQf",
        "outputId": "013d2162-0e00-4218-ba2b-92ce20cf2279"
      },
      "outputs": [
        {
          "name": "stdout",
          "output_type": "stream",
          "text": [
            "Model Accuracy: 0.9550\n",
            "Classification Report:\n",
            "              precision    recall  f1-score   support\n",
            "\n",
            "           0       0.99      0.98      0.98        81\n",
            "           1       0.95      0.90      0.92        61\n",
            "           2       0.92      0.98      0.95        58\n",
            "\n",
            "    accuracy                           0.95       200\n",
            "   macro avg       0.95      0.95      0.95       200\n",
            "weighted avg       0.96      0.95      0.95       200\n",
            "\n",
            "Model and scaler saved successfully!\n"
          ]
        }
      ],
      "source": [
        "import pandas as pd\n",
        "import numpy as np\n",
        "import joblib\n",
        "from sklearn.model_selection import train_test_split\n",
        "from sklearn.preprocessing import StandardScaler, LabelEncoder\n",
        "from sklearn.svm import SVC\n",
        "from sklearn.metrics import accuracy_score, classification_report\n",
        "\n",
        "# Load the dataset\n",
        "file_path = \"Cervical_Pain_Dataset.csv\"  # Replace with your actual file path\n",
        "df = pd.read_csv(file_path)\n",
        "\n",
        "# Drop unnecessary columns\n",
        "df.drop(columns=['Patient_ID', 'Condition'], inplace=True)  \n",
        "\n",
        "# Encode categorical variables\n",
        "label_enc = LabelEncoder()\n",
        "df['Gender'] = label_enc.fit_transform(df['Gender'])  \n",
        "\n",
        "# **Combine three frequency features into one**\n",
        "df['Combined_Frequency'] = (df['FFT_Frequency_1'] + df['FFT_Frequency_2'] + df['FFT_Frequency_3']) / 3  \n",
        "\n",
        "# **Drop the old frequency columns**\n",
        "df.drop(columns=['FFT_Frequency_1', 'FFT_Frequency_2', 'FFT_Frequency_3'], inplace=True)\n",
        "\n",
        "# **Select only the final 7 required features**\n",
        "selected_features = ['Age', 'Gender', 'Pain_Score', 'Angular_Displacement', \n",
        "                     'Joint_Velocity', 'Range_of_Motion', 'Combined_Frequency']\n",
        "\n",
        "X = df[selected_features]  # Ensure only 7 features are used\n",
        "y = df['Target']\n",
        "\n",
        "# Split into train and test sets\n",
        "X_train, X_test, y_train, y_test = train_test_split(X, y, test_size=0.2, random_state=42, stratify=y)\n",
        "\n",
        "# Standardize the features\n",
        "scaler = StandardScaler()\n",
        "X_train = scaler.fit_transform(X_train)\n",
        "X_test = scaler.transform(X_test)\n",
        "\n",
        "# Train SVM model\n",
        "svm_model = SVC(kernel='rbf', C=1.0, gamma='scale', random_state=42)\n",
        "svm_model.fit(X_train, y_train)\n",
        "\n",
        "# Make predictions\n",
        "y_pred = svm_model.predict(X_test)\n",
        "\n",
        "# Evaluate the model\n",
        "accuracy = accuracy_score(y_test, y_pred)\n",
        "print(f\"Model Accuracy: {accuracy:.4f}\")\n",
        "print(\"Classification Report:\")\n",
        "print(classification_report(y_test, y_pred))\n",
        "\n",
        "# Save the updated model and scaler\n",
        "joblib.dump(svm_model, 'svm_model.pkl')\n",
        "joblib.dump(scaler, 'scaler.pkl')\n",
        "\n",
        "print(\"Model and scaler saved successfully!\")\n"
      ]
    },
    {
      "cell_type": "code",
      "execution_count": null,
      "metadata": {
        "colab": {
          "base_uri": "https://localhost:8080/"
        },
        "id": "FKjXYlkHZgiL",
        "outputId": "1042130a-2d29-4049-b0df-5a54853773c5"
      },
      "outputs": [],
      "source": []
    },
    {
      "cell_type": "code",
      "execution_count": null,
      "metadata": {
        "colab": {
          "base_uri": "https://localhost:8080/"
        },
        "id": "0VVmRy3OZ0mr",
        "outputId": "bf38fb50-bea0-4460-9d63-0021bd786621"
      },
      "outputs": [],
      "source": []
    },
    {
      "cell_type": "code",
      "execution_count": null,
      "metadata": {
        "id": "z9C5p8iJbkFR"
      },
      "outputs": [],
      "source": []
    }
  ],
  "metadata": {
    "colab": {
      "provenance": []
    },
    "kernelspec": {
      "display_name": "Python 3",
      "name": "python3"
    },
    "language_info": {
      "codemirror_mode": {
        "name": "ipython",
        "version": 3
      },
      "file_extension": ".py",
      "mimetype": "text/x-python",
      "name": "python",
      "nbconvert_exporter": "python",
      "pygments_lexer": "ipython3",
      "version": "3.12.2"
    }
  },
  "nbformat": 4,
  "nbformat_minor": 0
}
